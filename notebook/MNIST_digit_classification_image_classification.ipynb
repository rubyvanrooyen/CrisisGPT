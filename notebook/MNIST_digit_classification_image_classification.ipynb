{
  "nbformat": 4,
  "nbformat_minor": 0,
  "metadata": {
    "colab": {
      "provenance": [],
      "toc_visible": true
    },
    "kernelspec": {
      "name": "python3",
      "display_name": "Python 3"
    },
    "language_info": {
      "name": "python"
    }
  },
  "cells": [
    {
      "cell_type": "markdown",
      "source": [
        "# MNIST digit classification (image classification)"
      ],
      "metadata": {
        "id": "O-Oxfwp11He0"
      }
    },
    {
      "cell_type": "markdown",
      "source": [
        "Build a neural network that can recognize handwritten digits (0–9) using the MNIST dataset — one of the most common \"hello world\" datasets for deep learning."
      ],
      "metadata": {
        "id": "a7Ro6LYe0vQI"
      }
    },
    {
      "cell_type": "markdown",
      "source": [
        "A high-level algorithm describing the implementation steps we followed for the MNIST digit classification:\n",
        "\n",
        "1.  **Load the Dataset:**\n",
        "    *   Load the MNIST training and test datasets (images and labels) using `mnist.load_data()`.\n",
        "\n",
        "2.  **Preprocess the Data:**\n",
        "    *   **Normalize** the image pixel values by scaling them from the original range (0-255) to a smaller range (0-1) by dividing by 255.0.\n",
        "    *   **Reshape** the image data to add a channel dimension, making the shape suitable for convolutional layers (e.g., from (samples, height, width) to (samples, height, width, 1)).\n",
        "    *   **One-Hot Encode** (optional) the integer labels into a binary vector format (e.g., convert the digit '3' to [0, 0, 0, 1, 0, 0, 0, 0, 0, 0]).\n",
        "\n",
        "3.  **Build the Neural Network Model:**\n",
        "    *   Define a **Sequential** model in Keras.\n",
        "    *   Add **Convolutional (Conv2D)** layers to extract features from the images.\n",
        "    *   Add **Pooling (MaxPooling2D)** layers to reduce the spatial dimensions and computation.\n",
        "    *   Add a **Flatten** layer to convert the 2D feature maps into a 1D vector.\n",
        "    *   Add **Dense (fully connected)** layers for classification.\n",
        "    *   Add a final Dense layer with a **softmax** activation function to output class probabilities.\n",
        "\n",
        "4.  **Compile the Model:**\n",
        "    *   Configure the model for training using `model.compile()`.\n",
        "    *   Specify the **optimizer** (e.g., 'adam') to define how the model's weights will be updated.\n",
        "    *   Specify the **loss function** (e.g., 'categorical_crossentropy') to measure the model's error.\n",
        "    *   Specify the **metrics** (e.g., ['accuracy']) to evaluate the model's performance.\n",
        "\n",
        "5.  **Train the Model:**\n",
        "    *   Train the model using the `model.fit()` method.\n",
        "    *   Provide the preprocessed training data and labels.\n",
        "    *   Specify the number of **epochs** (iterations over the dataset).\n",
        "    *   Specify the **batch size** (number of samples per gradient update).\n",
        "    *   Optionally, use a `validation_split` to monitor performance on a portion of the training data during training.\n",
        "\n",
        "6.  **Evaluate Model Performance:**\n",
        "    *   Evaluate the trained model on the unseen test dataset using `model.evaluate()`.\n",
        "    *   Get the test loss and test accuracy.\n",
        "\n",
        "7.  **Visualize Training History (Optional but Recommended):**\n",
        "    *   Plot the training and validation accuracy and loss over epochs using the `history` object returned by `model.fit()` to visualize the training progress and check for overfitting.\n",
        "\n",
        "8.  **Make Predictions (Optional):**\n",
        "    *   Use the trained model to make predictions on new, unseen images using `model.predict()`.\n",
        "\n",
        "This algorithm covers the main steps involved in implementing the MNIST digit classification using a neural network in Keras."
      ],
      "metadata": {
        "id": "u9YLrQBlbaJd"
      }
    },
    {
      "cell_type": "code",
      "source": [
        "# import libraries\n",
        "import tensorflow as tf\n",
        "from tensorflow.keras.datasets import mnist\n",
        "from tensorflow.keras.models import Sequential\n",
        "from tensorflow.keras.layers import Dense, Flatten\n",
        "import matplotlib.pyplot as plt"
      ],
      "metadata": {
        "id": "WKSeRPRZ1iLn"
      },
      "execution_count": 40,
      "outputs": []
    },
    {
      "cell_type": "markdown",
      "source": [
        "## How to load and preprocess image data"
      ],
      "metadata": {
        "id": "4hxQC8xu04Qi"
      }
    },
    {
      "cell_type": "markdown",
      "source": [
        "### Load the dataset\n",
        "\n",
        "First, we'll load the MNIST dataset. It's conveniently included in TensorFlow's datasets module.\n",
        "\n",
        "The `tensorflow.keras.datasets` module contains several commonly used datasets for machine learning and deep learning. Here are some of the datasets you can find in this module:\n",
        "\n",
        "* mnist: The MNIST database of handwritten digits.\n",
        "* cifar10: The CIFAR10 dataset of 32x32 color images in 10 classes.\n",
        "* cifar100: The CIFAR100 dataset of 32x32 color images in 100 classes.\n",
        "* imdb: The IMDB dataset of movie reviews, for binary sentiment classification.\n",
        "* reuters: The Reuters newswire topics classification dataset.\n",
        "* fashion_mnist: A dataset of 28x28 grayscale images of 10 fashion categories.\n",
        "\n",
        "These datasets are pre-processed and ready to be loaded directly into your TensorFlow Keras workflows, making it convenient for experimenting and learning."
      ],
      "metadata": {
        "id": "IJyftkne2WlH"
      }
    },
    {
      "cell_type": "code",
      "source": [
        "# load the example dataset\n",
        "(x_train, y_train), (x_test, y_test) = mnist.load_data()"
      ],
      "metadata": {
        "id": "uawphUi62_SX"
      },
      "execution_count": 41,
      "outputs": []
    },
    {
      "cell_type": "markdown",
      "source": [
        "### Preprocess the data\n",
        "\n",
        "For a neural network-based deep learning implementation, common preprocessing steps for image data like the MNIST dataset include:\n",
        "\n",
        "\n",
        "1.   Normalization: Scaling the pixel values to a range between 0 and 1. This helps the model converge faster and perform better.\n",
        "2.   Reshaping: Reshaping the images to the format expected by the neural network (e.g., adding a channel dimension for grayscale images).\n",
        "3.   One-Hot Encoding (for labels): Converting the integer labels (0-9) into a one-hot encoded format. This is necessary for categorical cross-entropy loss, which is often used in multi-class classification problems.\n",
        "\n",
        "\n",
        "\n",
        "\n",
        "\n"
      ],
      "metadata": {
        "id": "PxQOLGDT3Ns0"
      }
    },
    {
      "cell_type": "markdown",
      "source": [
        "We normalize the pixel values by dividing by 255.0, the maximum possible pixel value. This scales the data to a range between 0 and 1."
      ],
      "metadata": {
        "id": "HVxE6aT37xGn"
      }
    },
    {
      "cell_type": "code",
      "metadata": {
        "id": "d1806c9e"
      },
      "source": [
        "# Normalize the pixel values from 0-255 to 0-1\n",
        "x_train = x_train.astype('float32') / 255.0\n",
        "x_test = x_test.astype('float32') / 255.0"
      ],
      "execution_count": 42,
      "outputs": []
    },
    {
      "cell_type": "markdown",
      "metadata": {
        "id": "40cef002"
      },
      "source": [
        "Normalizing the pixel values from the range of 0-255 to 0-1 is a common and important preprocessing step in image-based machine learning for several reasons:\n",
        "\n",
        "* Improved Training Performance: Neural networks, especially those using gradient-based optimization methods (like Adam or SGD), tend to perform better and converge faster when the input data is scaled to a smaller, consistent range. Large input values can lead to large gradients, which can cause the optimization process to oscillate or diverge. Scaling to 0-1 helps keep gradients within a manageable range.\n",
        "* Preventing Activation Saturation: Some activation functions commonly used in neural networks (like the sigmoid or tanh functions, although ReLU is more common now) can saturate when inputs are very large or very small. Saturation means the gradient of the activation function becomes very close to zero, which can hinder the learning process in the layers where saturation occurs. Scaling inputs to 0-1 helps prevent this.\n",
        "* Consistent Feature Scales: While pixel values are often in the same range (0-255), other datasets might have features with vastly different scales. Normalization ensures that all features contribute roughly equally to the learning process, preventing features with larger values from dominating those with smaller values. Even within image data, subtle variations in lighting could affect the absolute pixel values, and normalization helps to mitigate this.\n",
        "* Compatibility with Activation Functions: The range of 0-1 is often a good input range for certain activation functions or layers in a neural network.\n",
        "\n",
        "In essence, normalization helps to create a more stable and efficient training process for the neural network, leading to better performance and faster convergence."
      ]
    },
    {
      "cell_type": "markdown",
      "source": [
        "The type of normalization used can depend on the data and the specific machine learning model, but for image data like the MNIST dataset, scaling pixel values from 0-255 to 0-1 (as we did by dividing by 255.0) is a very common technique. This is a form of Min-Max Scaling, where the original range of values is scaled to a specific target range, in this case [0, 1].\n",
        "\n",
        "Other common types of normalization include:\n",
        "\n",
        "* Standardization (Z-score normalization): This transforms the data to have a mean of 0 and a standard deviation of 1. It's calculated as (x - mean) / standard deviation. This is often used when the data has a Gaussian distribution.\n",
        "* Mean Normalization: This centers the data around zero by subtracting the mean, but doesn't divide by the standard deviation. It's calculated as (x - mean) / (max - min).\n",
        "* Unit Vector Normalization: This scales each sample (row of data) to have a unit norm (a length of 1). This is often used in text processing or when the magnitude of the vector is not as important as its direction.\n",
        "\n",
        "For image data where the pixel values have a known, fixed range (like 0-255), Min-Max scaling to [0, 1] or [-1, 1] is very prevalent and effective. Standardizaton can also be used, especially if the pixel value distribution is roughly Gaussian."
      ],
      "metadata": {
        "id": "FmKiCBDl6W5v"
      }
    },
    {
      "cell_type": "code",
      "source": [
        "print(f\"Training data shape: {x_train.shape}\")\n",
        "print(f\"Training labels shape: {y_train.shape}\")\n",
        "print(f\"Test data shape: {x_test.shape}\")\n",
        "print(f\"Test labels shape: {y_test.shape}\")"
      ],
      "metadata": {
        "colab": {
          "base_uri": "https://localhost:8080/"
        },
        "id": "JHihDYya7LW9",
        "outputId": "f1ef5fee-4d71-4104-fc73-d6edb3147642"
      },
      "execution_count": 43,
      "outputs": [
        {
          "output_type": "stream",
          "name": "stdout",
          "text": [
            "Training data shape: (60000, 28, 28)\n",
            "Training labels shape: (60000,)\n",
            "Test data shape: (10000, 28, 28)\n",
            "Test labels shape: (10000,)\n"
          ]
        }
      ]
    },
    {
      "cell_type": "markdown",
      "metadata": {
        "id": "3cde7865"
      },
      "source": [
        "We reshape the data to include a channel dimension. For grayscale images like MNIST, the shape is typically (number_of_images, height, width, 1)."
      ]
    },
    {
      "cell_type": "code",
      "metadata": {
        "id": "dfd3d685"
      },
      "source": [
        "# Reshape the data (add channel dimension for grayscale images)\n",
        "x_train = x_train.reshape(x_train.shape[0], 28, 28, 1)\n",
        "x_test = x_test.reshape(x_test.shape[0], 28, 28, 1)"
      ],
      "execution_count": 44,
      "outputs": []
    },
    {
      "cell_type": "markdown",
      "source": [
        "This code snippet reshapes the `x_train` and `x_test` arrays.\n",
        "\n",
        "* `x_train.reshape(x_train.shape[0], 28, 28, 1)`: This line reshapes the training data.\n",
        "** `x_train.shape[0]` is the number of samples (images) in the training set (which is 60,000 for MNIST).\n",
        "** `28, 28` are the height and width of the images (28x28 pixels).\n",
        "** `1` is the number of color channels. Since the MNIST images are grayscale, they have only one channel. This reshaping adds this channel dimension, which is required by many convolutional neural network (CNN) layers in TensorFlow/Keras.\n",
        "* `x_test.reshape(x_test.shape[0], 28, 28, 1)`: This line does the same reshaping for the test data.\n",
        "\n",
        "In essence, this code transforms the image data from a 3-dimensional array (samples, height, width) to a 4-dimensional array (samples, height, width, channels), making it compatible with the input requirements of convolutional layers in a neural network."
      ],
      "metadata": {
        "id": "jC0a09eJ8Vrf"
      }
    },
    {
      "cell_type": "code",
      "source": [
        "print(f\"Training data shape: {x_train.shape}\")\n",
        "print(f\"Training labels shape: {y_train.shape}\")\n",
        "print(f\"Test data shape: {x_test.shape}\")\n",
        "print(f\"Test labels shape: {y_test.shape}\")"
      ],
      "metadata": {
        "colab": {
          "base_uri": "https://localhost:8080/"
        },
        "id": "c6YV2mpu7i_f",
        "outputId": "74b9f730-af5a-4f69-8b7d-52aa8d88f338"
      },
      "execution_count": 45,
      "outputs": [
        {
          "output_type": "stream",
          "name": "stdout",
          "text": [
            "Training data shape: (60000, 28, 28, 1)\n",
            "Training labels shape: (60000,)\n",
            "Test data shape: (10000, 28, 28, 1)\n",
            "Test labels shape: (10000,)\n"
          ]
        }
      ]
    },
    {
      "cell_type": "markdown",
      "metadata": {
        "id": "172a0bf7"
      },
      "source": [
        "We convert the integer labels into a one-hot encoded format. This is necessary for the categorical cross-entropy loss function used in multi-class classification."
      ]
    },
    {
      "cell_type": "code",
      "metadata": {
        "id": "68400233"
      },
      "source": [
        "# One-hot encode the labels\n",
        "y_train = tf.keras.utils.to_categorical(y_train, num_classes=10)\n",
        "y_test = tf.keras.utils.to_categorical(y_test, num_classes=10)"
      ],
      "execution_count": 46,
      "outputs": []
    },
    {
      "cell_type": "markdown",
      "source": [
        "This code snippet performs one-hot encoding on the training and test labels (`y_train` and `y_test`).\n",
        "\n",
        "* `tf.keras.utils.to_categorical(y_train, num_classes=10)`: This function from TensorFlow/Keras converts the integer labels in `y_train` into a one-hot encoded format.\n",
        "** The original `y_train` contains integer values representing the digits (0-9).\n",
        "** `num_classes=10` specifies that there are 10 possible classes (digits).\n",
        "** The function creates a new array where each original integer label is converted into a vector of length 10. For example, the label `3` would become `[0, 0, 0, 1, 0, 0, 0, 0, 0, 0]`.\n",
        "* y_test = `tf.keras.utils.to_categorical(y_test, num_classes=10)`: This line does the same one-hot encoding for the test labels.\n",
        "\n",
        "One-hot encoding is crucial for multi-class classification problems when using categorical cross-entropy as the loss function, as it provides a target vector that matches the output shape of the neural network's final layer (which typically has a node for each class)."
      ],
      "metadata": {
        "id": "6Om0O44b8-Lb"
      }
    },
    {
      "cell_type": "code",
      "source": [
        "print(f\"Training data shape: {x_train.shape}\")\n",
        "print(f\"Training labels shape: {y_train.shape}\")\n",
        "print(f\"Test data shape: {x_test.shape}\")\n",
        "print(f\"Test labels shape: {y_test.shape}\")"
      ],
      "metadata": {
        "colab": {
          "base_uri": "https://localhost:8080/"
        },
        "id": "4WubS_O4794h",
        "outputId": "f7b34bb1-c9dc-40ae-f53d-85c594d1b91d"
      },
      "execution_count": 47,
      "outputs": [
        {
          "output_type": "stream",
          "name": "stdout",
          "text": [
            "Training data shape: (60000, 28, 28, 1)\n",
            "Training labels shape: (60000, 10)\n",
            "Test data shape: (10000, 28, 28, 1)\n",
            "Test labels shape: (10000, 10)\n"
          ]
        }
      ]
    },
    {
      "cell_type": "markdown",
      "source": [
        "## How to build and train a neural network"
      ],
      "metadata": {
        "id": "gDctg9Z504Ia"
      }
    },
    {
      "cell_type": "markdown",
      "source": [
        "The t`ensorflow.keras.models` library provides several classes for building different types of neural network models. The two most commonly used are:\n",
        "\n",
        "* `Sequential`: This is the simplest type of model, where layers are stacked in a linear fashion. It's suitable for building basic feedforward neural networks. You've already used this type of model to build the digit recognition model.\n",
        "* `Functional` API: This allows you to build models with more flexible architectures, including models with multiple inputs, multiple outputs, and shared layers. It's more powerful than the Sequential model and is used for more complex network designs.\n",
        "* `Model` subclassing: This is the most flexible way to build models in Keras. You define your model by creating a class that inherits from `tf.keras.Model` and defining the layers and the forward pass in the `__init__` and `call` methods, respectively. This is useful for highly customized models."
      ],
      "metadata": {
        "id": "60LNvYPjBFZ7"
      }
    },
    {
      "cell_type": "markdown",
      "source": [
        "Choosing the right Keras model type depends on the complexity and structure of the neural network you want to build:\n",
        "\n",
        "* `Sequential`: Use this when you have a simple, linear stack of layers with a single input and a single output. It's the easiest to use for basic models. The MNIST digit recognition model we built is a good example of when to use a Sequential model.\n",
        "* `Functional` API: Use this when your model has a more complex structure, such as multiple inputs, multiple outputs, shared layers, or non-sequential connections (like skip connections in residual networks). It provides more flexibility than Sequential while still being relatively easy to understand and use.\n",
        "* `Model` subclassing: Use this when you need the highest level of flexibility and control over the model's behavior. This is particularly useful for building models with custom forward passes, complex control flow, or when you want to implement a custom layer or a research-oriented model architecture. It requires more coding but offers the most power.\n",
        "\n",
        "In summary:\n",
        "* Simple, linear stack: Sequential\n",
        "* Multiple inputs/outputs, shared layers, non-sequential connections: Functional API\n",
        "* Highest flexibility, custom behavior, research: Model subclassing"
      ],
      "metadata": {
        "id": "3lrDr_CbBK0k"
      }
    },
    {
      "cell_type": "markdown",
      "source": [
        "### Build the neural network\n",
        "\n",
        "For image classification tasks like the MNIST dataset, a **Convolutional Neural Network (CNN)** is typically the most effective type of neural network.\n",
        "\n",
        "CNNs are designed to automatically learn spatial hierarchies of features from images, making them highly suitable for tasks involving visual data. They use convolutional layers to extract features and pooling layers to reduce dimensionality, followed by dense layers for classification."
      ],
      "metadata": {
        "id": "eM--l_sY-7oG"
      }
    },
    {
      "cell_type": "markdown",
      "source": [
        "Build a simple sequential model. Flatten the 28x28x1 images into a 784-element vector and then add a dense layer with 128 neurons and a final output layer with 10 neurons (one for each digit).\n",
        "\n",
        "Define the model architecture using the `Sequential` model from Keras. We define the layers of the neural network in a linear stack."
      ],
      "metadata": {
        "id": "GPVDBU30HTTN"
      }
    },
    {
      "cell_type": "code",
      "metadata": {
        "colab": {
          "base_uri": "https://localhost:8080/"
        },
        "id": "21e3f466",
        "outputId": "6657b2e9-efad-486b-e686-f22d8180b02b"
      },
      "source": [
        "# Build the CNN model with Dropout\n",
        "model = Sequential([\n",
        "    # Convolutional layer 1\n",
        "    tf.keras.layers.Conv2D(32, kernel_size=(3, 3), activation='relu', input_shape=(28, 28, 1)),\n",
        "    tf.keras.layers.MaxPooling2D(pool_size=(2, 2)),\n",
        "    tf.keras.layers.Dropout(0.25), # Added Dropout\n",
        "\n",
        "    # Convolutional layer 2\n",
        "    tf.keras.layers.Conv2D(64, kernel_size=(3, 3), activation='relu'),\n",
        "    tf.keras.layers.MaxPooling2D(pool_size=(2, 2)),\n",
        "    tf.keras.layers.Dropout(0.25), # Added Dropout\n",
        "\n",
        "    # Flatten the output from convolutional layers\n",
        "    Flatten(),\n",
        "\n",
        "    # Dense layer 1\n",
        "    Dense(128, activation='relu'),\n",
        "    tf.keras.layers.Dropout(0.5), # Added Dropout\n",
        "\n",
        "    # Dense layer 2 (optional, if previously added)\n",
        "    # Dense(64, activation='relu'),\n",
        "\n",
        "    # Output layer\n",
        "    Dense(10, activation='softmax') # 10 classes for digits 0-9\n",
        "])"
      ],
      "execution_count": 48,
      "outputs": [
        {
          "output_type": "stream",
          "name": "stderr",
          "text": [
            "/usr/local/lib/python3.12/dist-packages/keras/src/layers/convolutional/base_conv.py:113: UserWarning: Do not pass an `input_shape`/`input_dim` argument to a layer. When using Sequential models, prefer using an `Input(shape)` object as the first layer in the model instead.\n",
            "  super().__init__(activity_regularizer=activity_regularizer, **kwargs)\n"
          ]
        }
      ]
    },
    {
      "cell_type": "markdown",
      "source": [
        "The phrase (\"a simple, linear stack of layers with a single input and a single output\") describes the typical architecture of a neural network built using the Sequential model in Keras.\n",
        "Let's break it down:\n",
        "* Simple, linear stack of layers: This means the layers in the neural network are arranged one after another in a straight line. The output of one layer serves as the input to the next layer, and there are no branching paths or complex connections between layers. Think of it like a pipeline where data flows in one direction from the input to the output through each layer in sequence.\n",
        "* Single input: The network receives one type of data as its starting point. In our MNIST example, the single input is the image of the handwritten digit.\n",
        "* Single output: The network produces one result at the end. In the MNIST example, the single output is the prediction of which digit the image represents (a probability distribution over the 10 digits).\n",
        "\n",
        "So, a \"simple, linear stack of layers with a single input and a single output\" refers to a straightforward neural network where data enters at one point, passes through a series of layers in order, and exits as a single result. This is the most basic type of neural network architecture and is well-suited for many common tasks."
      ],
      "metadata": {
        "id": "-RLEBicm_32U"
      }
    },
    {
      "cell_type": "markdown",
      "source": [
        "This code snippet defines a Convolutional Neural Network (CNN) model using the Keras `Sequential` API. Here's a breakdown of the layers:\n",
        "\n",
        "* `Sequential([...])`: This creates a linear stack of layers.\n",
        "* `tf.keras.layers.Conv2D(32, kernel_size=(3, 3), activation='relu', input_shape=(28, 28, 1))`: This is the first convolutional layer.\n",
        "** `32`: The number of filters (output channels) the layer will learn.\n",
        "** `kernel_size=(3, 3)`: The size of the convolution window (a 3x3 matrix).\n",
        "** `activation='relu'`: The activation function used (Rectified Linear Unit).\n",
        "** `input_shape=(28, 28, 1)`: The shape of the input data (28x28 pixels with 1 channel for grayscale). This is only needed for the first layer.\n",
        "* `tf.keras.layers.MaxPooling2D(pool_size=(2, 2))`: This is a max pooling layer.\n",
        "** `pool_size=(2, 2)`: The size of the pooling window. It reduces the spatial dimensions (height and width) of the input by taking the maximum value within each window. This helps to reduce the number of parameters and computation, and makes the model more robust to small translations in the input.\n",
        "* `tf.keras.layers.Conv2D(64, kernel_size=(3, 3), activation='relu')`: This is the second convolutional layer, similar to the first but with 64 filters.\n",
        "* `tf.keras.layers.MaxPooling2D(pool_size=(2, 2))`: Another max pooling layer to further reduce dimensionality.\n",
        "* `Flatten()`: This layer flattens the output from the convolutional and pooling layers into a 1D array (vector). Takes the 28x28x1 pixel image and flattens it into a single vector of 784 elements. This is necessary because the subsequent dense layers expect a 1D input. Thus, to connect the convolutional part of the network to the fully connected (dense) layers.\n",
        "* `Dense(128, activation='relu')`: This is a fully connected (dense) layer with 128 neurons. The `relu` (Rectified Linear Unit) activation function is applied to the output of this layer, introducing non-linearity into the model.\n",
        "* `Dense(10, activation='softmax')`: This is the output layer.\n",
        "** `10`: The number of neurons, corresponding to the 10 classes (digits 0-9).\n",
        "** `activation='softmax'`: The softmax activation function, which produces (outputs) a probability distribution over the 10 classes, meaning the output values for each image will sum up to 1, and each value represents the model's confidence that the image belongs to that digit class. The output of this layer will be a vector where each element represents the probability that the input image belongs to that class.\n",
        "\n",
        "This architecture is a common and effective starting point for image classification tasks like MNIST."
      ],
      "metadata": {
        "id": "xvr5IRp0C57r"
      }
    },
    {
      "cell_type": "markdown",
      "source": [
        "Dropout helps to prevent overfitting by acting as a regularization technique during the training of the neural network. Here's how it works:\n",
        "\n",
        "1. **Randomly Deactivating Neurons**: During each training step (for each batch of data), a random fraction of the neurons in a layer where dropout is applied are temporarily deactivated (their output is set to zero). The percentage of neurons to drop is controlled by the rate parameter you specify.\n",
        "2. **Creating Different Network Architectures**: Because a different set of neurons is dropped out in each training step, the network effectively trains on a slightly different architecture each time. This prevents any single neuron from becoming overly specialized or co-adapted with other specific neurons in a way that only benefits the training data.\n",
        "3. **Ensemble Effect**: You can think of dropout as training a large ensemble of slightly different neural networks that share weights. When you make predictions with the trained model (during inference), dropout is typically turned off, and the weights are scaled down to compensate for the fact that all neurons are now active. This averaging of the \"votes\" from the different sub-networks created during training tends to produce more robust predictions.\n",
        "4. **Reduced Co-adaptation**: By forcing neurons to work independently and not rely on the presence of specific other neurons, dropout encourages the network to learn more redundant and distributed representations. This makes the model less sensitive to small variations in the input data and less likely to memorize the training examples, which are hallmarks of overfitting.\n",
        "\n",
        "In essence, dropout makes the network more robust and less prone to relying on specific quirky patterns in the training data that might not generalize well to unseen data. This helps the model to perform better on the test set and real-world examples."
      ],
      "metadata": {
        "id": "qmw8lhfTkbMj"
      }
    },
    {
      "cell_type": "markdown",
      "source": [
        "### Compile the model\n",
        "\n",
        "When we talk about \"compiling\" a neural network model in TensorFlow/Keras, we're not referring to a traditional code compiler. Instead, we're configuring the model for the training process. This involves specifying three key components:\n",
        "\n",
        "1. **Optimizer**: This is the algorithm used to update the model's weights during training to minimize the loss function. Popular choices for this type of task include Adam, RMSprop, or SGD.\n",
        "2. **Loss Function**: This measures how well the model is performing. For multi-class classification with one-hot encoded labels (which we have after preprocessing), categorical cross-entropy is the standard choice.\n",
        "3. **Metrics**: These are used to evaluate the model's performance during training and testing. Accuracy is a common metric for classification problems, indicating the proportion of correctly classified samples.\n",
        "\n",
        "For the MNIST digit classification task, I recommend using:\n",
        "* **Optimizer**: 'adam' (a good general-purpose optimizer)\n",
        "* **Loss Function**: 'categorical_crossentropy' (because we used one-hot encoding for the labels)\n",
        "* **Metrics**: ['accuracy']\n",
        "\n",
        "Note: use `loss='sparse_categorical_crossentropy'` when you skip the one-hot encoding for labels step"
      ],
      "metadata": {
        "id": "tXbQyowIH4Se"
      }
    },
    {
      "cell_type": "code",
      "metadata": {
        "id": "d6f0b3bf"
      },
      "source": [
        "# Compile the model\n",
        "model.compile(optimizer='adam',\n",
        "              loss='categorical_crossentropy',\n",
        "              metrics=['accuracy'])"
      ],
      "execution_count": 49,
      "outputs": []
    },
    {
      "cell_type": "markdown",
      "source": [
        "This code compiles the neural network model that was defined earlier. The `model.compile()` method configures the model for training by specifying the following:\n",
        "* `optimizer='adam'`: This sets the optimizer to 'adam'. The optimizer is the algorithm that updates the model's weights during training to minimize the loss function. Adam is a popular and generally effective optimizer.\n",
        "* `loss='categorical_crossentropy'`: This sets the loss function to 'categorical_crossentropy'. The loss function measures how well the model is performing. For multi-class classification problems where the labels are one-hot encoded (as we did with the MNIST labels), categorical cross-entropy is the standard choice. It calculates the difference between the predicted probability distribution and the true distribution.\n",
        "* `metrics=['accuracy']`: This specifies the metric to be used to evaluate the model's performance during training and testing. 'accuracy' calculates the proportion of correctly classified samples.\n",
        "\n",
        "In summary, this code prepares the model for training by defining how the model will learn (optimizer), what it aims to minimize (loss function), and how its performance will be measured (metrics).\n",
        "\n",
        "Note: `loss='sparse_categorical_crossentropy'`: This defines the loss function that the model will try to minimize during training. For multi-class classification problems like MNIST, `sparse_categorical_crossentropy` is a common choice when the labels are integers (0, 1, 2, etc.)."
      ],
      "metadata": {
        "id": "Tajd2171NXPC"
      }
    },
    {
      "cell_type": "code",
      "source": [
        "model.summary()"
      ],
      "metadata": {
        "colab": {
          "base_uri": "https://localhost:8080/",
          "height": 463
        },
        "id": "5vXEofJDLdtS",
        "outputId": "2dceee9e-3017-4e53-e8d9-5ae0917f1392"
      },
      "execution_count": 50,
      "outputs": [
        {
          "output_type": "display_data",
          "data": {
            "text/plain": [
              "\u001b[1mModel: \"sequential_4\"\u001b[0m\n"
            ],
            "text/html": [
              "<pre style=\"white-space:pre;overflow-x:auto;line-height:normal;font-family:Menlo,'DejaVu Sans Mono',consolas,'Courier New',monospace\"><span style=\"font-weight: bold\">Model: \"sequential_4\"</span>\n",
              "</pre>\n"
            ]
          },
          "metadata": {}
        },
        {
          "output_type": "display_data",
          "data": {
            "text/plain": [
              "┏━━━━━━━━━━━━━━━━━━━━━━━━━━━━━━━━━┳━━━━━━━━━━━━━━━━━━━━━━━━┳━━━━━━━━━━━━━━━┓\n",
              "┃\u001b[1m \u001b[0m\u001b[1mLayer (type)                   \u001b[0m\u001b[1m \u001b[0m┃\u001b[1m \u001b[0m\u001b[1mOutput Shape          \u001b[0m\u001b[1m \u001b[0m┃\u001b[1m \u001b[0m\u001b[1m      Param #\u001b[0m\u001b[1m \u001b[0m┃\n",
              "┡━━━━━━━━━━━━━━━━━━━━━━━━━━━━━━━━━╇━━━━━━━━━━━━━━━━━━━━━━━━╇━━━━━━━━━━━━━━━┩\n",
              "│ conv2d_8 (\u001b[38;5;33mConv2D\u001b[0m)               │ (\u001b[38;5;45mNone\u001b[0m, \u001b[38;5;34m26\u001b[0m, \u001b[38;5;34m26\u001b[0m, \u001b[38;5;34m32\u001b[0m)     │           \u001b[38;5;34m320\u001b[0m │\n",
              "├─────────────────────────────────┼────────────────────────┼───────────────┤\n",
              "│ max_pooling2d_8 (\u001b[38;5;33mMaxPooling2D\u001b[0m)  │ (\u001b[38;5;45mNone\u001b[0m, \u001b[38;5;34m13\u001b[0m, \u001b[38;5;34m13\u001b[0m, \u001b[38;5;34m32\u001b[0m)     │             \u001b[38;5;34m0\u001b[0m │\n",
              "├─────────────────────────────────┼────────────────────────┼───────────────┤\n",
              "│ dropout_3 (\u001b[38;5;33mDropout\u001b[0m)             │ (\u001b[38;5;45mNone\u001b[0m, \u001b[38;5;34m13\u001b[0m, \u001b[38;5;34m13\u001b[0m, \u001b[38;5;34m32\u001b[0m)     │             \u001b[38;5;34m0\u001b[0m │\n",
              "├─────────────────────────────────┼────────────────────────┼───────────────┤\n",
              "│ conv2d_9 (\u001b[38;5;33mConv2D\u001b[0m)               │ (\u001b[38;5;45mNone\u001b[0m, \u001b[38;5;34m11\u001b[0m, \u001b[38;5;34m11\u001b[0m, \u001b[38;5;34m64\u001b[0m)     │        \u001b[38;5;34m18,496\u001b[0m │\n",
              "├─────────────────────────────────┼────────────────────────┼───────────────┤\n",
              "│ max_pooling2d_9 (\u001b[38;5;33mMaxPooling2D\u001b[0m)  │ (\u001b[38;5;45mNone\u001b[0m, \u001b[38;5;34m5\u001b[0m, \u001b[38;5;34m5\u001b[0m, \u001b[38;5;34m64\u001b[0m)       │             \u001b[38;5;34m0\u001b[0m │\n",
              "├─────────────────────────────────┼────────────────────────┼───────────────┤\n",
              "│ dropout_4 (\u001b[38;5;33mDropout\u001b[0m)             │ (\u001b[38;5;45mNone\u001b[0m, \u001b[38;5;34m5\u001b[0m, \u001b[38;5;34m5\u001b[0m, \u001b[38;5;34m64\u001b[0m)       │             \u001b[38;5;34m0\u001b[0m │\n",
              "├─────────────────────────────────┼────────────────────────┼───────────────┤\n",
              "│ flatten_4 (\u001b[38;5;33mFlatten\u001b[0m)             │ (\u001b[38;5;45mNone\u001b[0m, \u001b[38;5;34m1600\u001b[0m)           │             \u001b[38;5;34m0\u001b[0m │\n",
              "├─────────────────────────────────┼────────────────────────┼───────────────┤\n",
              "│ dense_9 (\u001b[38;5;33mDense\u001b[0m)                 │ (\u001b[38;5;45mNone\u001b[0m, \u001b[38;5;34m128\u001b[0m)            │       \u001b[38;5;34m204,928\u001b[0m │\n",
              "├─────────────────────────────────┼────────────────────────┼───────────────┤\n",
              "│ dropout_5 (\u001b[38;5;33mDropout\u001b[0m)             │ (\u001b[38;5;45mNone\u001b[0m, \u001b[38;5;34m128\u001b[0m)            │             \u001b[38;5;34m0\u001b[0m │\n",
              "├─────────────────────────────────┼────────────────────────┼───────────────┤\n",
              "│ dense_10 (\u001b[38;5;33mDense\u001b[0m)                │ (\u001b[38;5;45mNone\u001b[0m, \u001b[38;5;34m10\u001b[0m)             │         \u001b[38;5;34m1,290\u001b[0m │\n",
              "└─────────────────────────────────┴────────────────────────┴───────────────┘\n"
            ],
            "text/html": [
              "<pre style=\"white-space:pre;overflow-x:auto;line-height:normal;font-family:Menlo,'DejaVu Sans Mono',consolas,'Courier New',monospace\">┏━━━━━━━━━━━━━━━━━━━━━━━━━━━━━━━━━┳━━━━━━━━━━━━━━━━━━━━━━━━┳━━━━━━━━━━━━━━━┓\n",
              "┃<span style=\"font-weight: bold\"> Layer (type)                    </span>┃<span style=\"font-weight: bold\"> Output Shape           </span>┃<span style=\"font-weight: bold\">       Param # </span>┃\n",
              "┡━━━━━━━━━━━━━━━━━━━━━━━━━━━━━━━━━╇━━━━━━━━━━━━━━━━━━━━━━━━╇━━━━━━━━━━━━━━━┩\n",
              "│ conv2d_8 (<span style=\"color: #0087ff; text-decoration-color: #0087ff\">Conv2D</span>)               │ (<span style=\"color: #00d7ff; text-decoration-color: #00d7ff\">None</span>, <span style=\"color: #00af00; text-decoration-color: #00af00\">26</span>, <span style=\"color: #00af00; text-decoration-color: #00af00\">26</span>, <span style=\"color: #00af00; text-decoration-color: #00af00\">32</span>)     │           <span style=\"color: #00af00; text-decoration-color: #00af00\">320</span> │\n",
              "├─────────────────────────────────┼────────────────────────┼───────────────┤\n",
              "│ max_pooling2d_8 (<span style=\"color: #0087ff; text-decoration-color: #0087ff\">MaxPooling2D</span>)  │ (<span style=\"color: #00d7ff; text-decoration-color: #00d7ff\">None</span>, <span style=\"color: #00af00; text-decoration-color: #00af00\">13</span>, <span style=\"color: #00af00; text-decoration-color: #00af00\">13</span>, <span style=\"color: #00af00; text-decoration-color: #00af00\">32</span>)     │             <span style=\"color: #00af00; text-decoration-color: #00af00\">0</span> │\n",
              "├─────────────────────────────────┼────────────────────────┼───────────────┤\n",
              "│ dropout_3 (<span style=\"color: #0087ff; text-decoration-color: #0087ff\">Dropout</span>)             │ (<span style=\"color: #00d7ff; text-decoration-color: #00d7ff\">None</span>, <span style=\"color: #00af00; text-decoration-color: #00af00\">13</span>, <span style=\"color: #00af00; text-decoration-color: #00af00\">13</span>, <span style=\"color: #00af00; text-decoration-color: #00af00\">32</span>)     │             <span style=\"color: #00af00; text-decoration-color: #00af00\">0</span> │\n",
              "├─────────────────────────────────┼────────────────────────┼───────────────┤\n",
              "│ conv2d_9 (<span style=\"color: #0087ff; text-decoration-color: #0087ff\">Conv2D</span>)               │ (<span style=\"color: #00d7ff; text-decoration-color: #00d7ff\">None</span>, <span style=\"color: #00af00; text-decoration-color: #00af00\">11</span>, <span style=\"color: #00af00; text-decoration-color: #00af00\">11</span>, <span style=\"color: #00af00; text-decoration-color: #00af00\">64</span>)     │        <span style=\"color: #00af00; text-decoration-color: #00af00\">18,496</span> │\n",
              "├─────────────────────────────────┼────────────────────────┼───────────────┤\n",
              "│ max_pooling2d_9 (<span style=\"color: #0087ff; text-decoration-color: #0087ff\">MaxPooling2D</span>)  │ (<span style=\"color: #00d7ff; text-decoration-color: #00d7ff\">None</span>, <span style=\"color: #00af00; text-decoration-color: #00af00\">5</span>, <span style=\"color: #00af00; text-decoration-color: #00af00\">5</span>, <span style=\"color: #00af00; text-decoration-color: #00af00\">64</span>)       │             <span style=\"color: #00af00; text-decoration-color: #00af00\">0</span> │\n",
              "├─────────────────────────────────┼────────────────────────┼───────────────┤\n",
              "│ dropout_4 (<span style=\"color: #0087ff; text-decoration-color: #0087ff\">Dropout</span>)             │ (<span style=\"color: #00d7ff; text-decoration-color: #00d7ff\">None</span>, <span style=\"color: #00af00; text-decoration-color: #00af00\">5</span>, <span style=\"color: #00af00; text-decoration-color: #00af00\">5</span>, <span style=\"color: #00af00; text-decoration-color: #00af00\">64</span>)       │             <span style=\"color: #00af00; text-decoration-color: #00af00\">0</span> │\n",
              "├─────────────────────────────────┼────────────────────────┼───────────────┤\n",
              "│ flatten_4 (<span style=\"color: #0087ff; text-decoration-color: #0087ff\">Flatten</span>)             │ (<span style=\"color: #00d7ff; text-decoration-color: #00d7ff\">None</span>, <span style=\"color: #00af00; text-decoration-color: #00af00\">1600</span>)           │             <span style=\"color: #00af00; text-decoration-color: #00af00\">0</span> │\n",
              "├─────────────────────────────────┼────────────────────────┼───────────────┤\n",
              "│ dense_9 (<span style=\"color: #0087ff; text-decoration-color: #0087ff\">Dense</span>)                 │ (<span style=\"color: #00d7ff; text-decoration-color: #00d7ff\">None</span>, <span style=\"color: #00af00; text-decoration-color: #00af00\">128</span>)            │       <span style=\"color: #00af00; text-decoration-color: #00af00\">204,928</span> │\n",
              "├─────────────────────────────────┼────────────────────────┼───────────────┤\n",
              "│ dropout_5 (<span style=\"color: #0087ff; text-decoration-color: #0087ff\">Dropout</span>)             │ (<span style=\"color: #00d7ff; text-decoration-color: #00d7ff\">None</span>, <span style=\"color: #00af00; text-decoration-color: #00af00\">128</span>)            │             <span style=\"color: #00af00; text-decoration-color: #00af00\">0</span> │\n",
              "├─────────────────────────────────┼────────────────────────┼───────────────┤\n",
              "│ dense_10 (<span style=\"color: #0087ff; text-decoration-color: #0087ff\">Dense</span>)                │ (<span style=\"color: #00d7ff; text-decoration-color: #00d7ff\">None</span>, <span style=\"color: #00af00; text-decoration-color: #00af00\">10</span>)             │         <span style=\"color: #00af00; text-decoration-color: #00af00\">1,290</span> │\n",
              "└─────────────────────────────────┴────────────────────────┴───────────────┘\n",
              "</pre>\n"
            ]
          },
          "metadata": {}
        },
        {
          "output_type": "display_data",
          "data": {
            "text/plain": [
              "\u001b[1m Total params: \u001b[0m\u001b[38;5;34m225,034\u001b[0m (879.04 KB)\n"
            ],
            "text/html": [
              "<pre style=\"white-space:pre;overflow-x:auto;line-height:normal;font-family:Menlo,'DejaVu Sans Mono',consolas,'Courier New',monospace\"><span style=\"font-weight: bold\"> Total params: </span><span style=\"color: #00af00; text-decoration-color: #00af00\">225,034</span> (879.04 KB)\n",
              "</pre>\n"
            ]
          },
          "metadata": {}
        },
        {
          "output_type": "display_data",
          "data": {
            "text/plain": [
              "\u001b[1m Trainable params: \u001b[0m\u001b[38;5;34m225,034\u001b[0m (879.04 KB)\n"
            ],
            "text/html": [
              "<pre style=\"white-space:pre;overflow-x:auto;line-height:normal;font-family:Menlo,'DejaVu Sans Mono',consolas,'Courier New',monospace\"><span style=\"font-weight: bold\"> Trainable params: </span><span style=\"color: #00af00; text-decoration-color: #00af00\">225,034</span> (879.04 KB)\n",
              "</pre>\n"
            ]
          },
          "metadata": {}
        },
        {
          "output_type": "display_data",
          "data": {
            "text/plain": [
              "\u001b[1m Non-trainable params: \u001b[0m\u001b[38;5;34m0\u001b[0m (0.00 B)\n"
            ],
            "text/html": [
              "<pre style=\"white-space:pre;overflow-x:auto;line-height:normal;font-family:Menlo,'DejaVu Sans Mono',consolas,'Courier New',monospace\"><span style=\"font-weight: bold\"> Non-trainable params: </span><span style=\"color: #00af00; text-decoration-color: #00af00\">0</span> (0.00 B)\n",
              "</pre>\n"
            ]
          },
          "metadata": {}
        }
      ]
    },
    {
      "cell_type": "markdown",
      "source": [
        "`model.summary()`, is used to display a concise summary of the neural network model's architecture.\n",
        "\n",
        "The output provides information about:\n",
        "\n",
        "* **Layers**: It lists each layer in the model in order.\n",
        "* **Output Shape**: It shows the shape of the output tensor for each layer. (`None, ...)` indicates the batch size is not fixed. You can see how the dimensions change after each convolutional and pooling layer, and how the `Flatten` layer converts the 3D output to a 1D vector.\n",
        "* **Param #**: This column shows the number of trainable parameters in each layer. These are the weights and biases that the model will learn during training. Layers like `MaxPooling2D` have 0 parameters because they perform a fixed operation without learning.\n",
        "* **Total params**: The total number of trainable parameters in the entire model.\n",
        "* **Trainable params**: The number of parameters that will be updated during the training process.\n",
        "* **Non-trainable params**: The number of parameters that are fixed and will not be updated during training (often seen when using pre-trained models).\n",
        "\n",
        "The model summary is very useful for understanding the structure of your network, verifying the output shapes at each stage, and getting an idea of the model's complexity (based on the number of parameters)."
      ],
      "metadata": {
        "id": "jyOOdHE_Lsvx"
      }
    },
    {
      "cell_type": "markdown",
      "source": [
        "In the context of neural networks and the model summary, \"trainable parameters\" and \"non-trainable parameters\" refer to the weights and biases within the network that are adjusted during the training process.\n",
        "\n",
        "* Trainable parameters: These are the parameters in the model that the optimization algorithm (like Adam) will update during the training process. These are typically the weights and biases of the layers in your network. The goal of training is to find the best values for these trainable parameters to minimize the loss function and improve the model's performance on the task. In our MNIST model, the weights and biases in the `Dense` layers are trainable parameters.\n",
        "* Non-trainable parameters: These are parameters in the model that are not updated during the standard training process using backpropagation and the optimizer. These can include parameters from layers that are frozen (their weights are fixed), or statistics that are calculated during training but not directly optimized, such as the mean and variance in Batch Normalization layers (although our simple model doesn't have these). In your model summary for the MNIST model, the `Flatten` layer has 0 parameters, and since it's just reshaping the data, it doesn't have any trainable parameters either.\n",
        "\n",
        "The model summary shows the total number of parameters and then breaks them down into trainable and non-trainable. For a typical feedforward network like the one we built, all parameters are usually trainable unless you specifically freeze some layers."
      ],
      "metadata": {
        "id": "NKLiHGZ6Ouub"
      }
    },
    {
      "cell_type": "markdown",
      "source": [
        "### Train the model\n",
        "\n",
        "To train the model, we use the `model.fit()` method. This method takes the training data and labels, and iteratively adjusts the model's weights to minimize the loss function. We'll also specify the number of epochs (how many times the model sees the entire training dataset) and the batch size (the number of samples per gradient update)."
      ],
      "metadata": {
        "id": "I_FleHaVNQkj"
      }
    },
    {
      "cell_type": "code",
      "metadata": {
        "colab": {
          "base_uri": "https://localhost:8080/"
        },
        "id": "5d16ee50",
        "outputId": "dca309b7-e301-47db-e128-9e669d7e6c80"
      },
      "source": [
        "# Train the model\n",
        "history = model.fit(x_train, y_train, epochs=10, batch_size=32, validation_split=0.1)"
      ],
      "execution_count": 51,
      "outputs": [
        {
          "output_type": "stream",
          "name": "stdout",
          "text": [
            "Epoch 1/10\n",
            "\u001b[1m1688/1688\u001b[0m \u001b[32m━━━━━━━━━━━━━━━━━━━━\u001b[0m\u001b[37m\u001b[0m \u001b[1m59s\u001b[0m 34ms/step - accuracy: 0.8259 - loss: 0.5409 - val_accuracy: 0.9842 - val_loss: 0.0569\n",
            "Epoch 2/10\n",
            "\u001b[1m1688/1688\u001b[0m \u001b[32m━━━━━━━━━━━━━━━━━━━━\u001b[0m\u001b[37m\u001b[0m \u001b[1m79s\u001b[0m 32ms/step - accuracy: 0.9657 - loss: 0.1116 - val_accuracy: 0.9888 - val_loss: 0.0379\n",
            "Epoch 3/10\n",
            "\u001b[1m1688/1688\u001b[0m \u001b[32m━━━━━━━━━━━━━━━━━━━━\u001b[0m\u001b[37m\u001b[0m \u001b[1m82s\u001b[0m 32ms/step - accuracy: 0.9743 - loss: 0.0849 - val_accuracy: 0.9888 - val_loss: 0.0349\n",
            "Epoch 4/10\n",
            "\u001b[1m1688/1688\u001b[0m \u001b[32m━━━━━━━━━━━━━━━━━━━━\u001b[0m\u001b[37m\u001b[0m \u001b[1m84s\u001b[0m 34ms/step - accuracy: 0.9786 - loss: 0.0747 - val_accuracy: 0.9915 - val_loss: 0.0304\n",
            "Epoch 5/10\n",
            "\u001b[1m1688/1688\u001b[0m \u001b[32m━━━━━━━━━━━━━━━━━━━━\u001b[0m\u001b[37m\u001b[0m \u001b[1m80s\u001b[0m 33ms/step - accuracy: 0.9812 - loss: 0.0604 - val_accuracy: 0.9913 - val_loss: 0.0323\n",
            "Epoch 6/10\n",
            "\u001b[1m1688/1688\u001b[0m \u001b[32m━━━━━━━━━━━━━━━━━━━━\u001b[0m\u001b[37m\u001b[0m \u001b[1m82s\u001b[0m 33ms/step - accuracy: 0.9835 - loss: 0.0529 - val_accuracy: 0.9923 - val_loss: 0.0291\n",
            "Epoch 7/10\n",
            "\u001b[1m1688/1688\u001b[0m \u001b[32m━━━━━━━━━━━━━━━━━━━━\u001b[0m\u001b[37m\u001b[0m \u001b[1m83s\u001b[0m 33ms/step - accuracy: 0.9835 - loss: 0.0504 - val_accuracy: 0.9928 - val_loss: 0.0306\n",
            "Epoch 8/10\n",
            "\u001b[1m1688/1688\u001b[0m \u001b[32m━━━━━━━━━━━━━━━━━━━━\u001b[0m\u001b[37m\u001b[0m \u001b[1m55s\u001b[0m 33ms/step - accuracy: 0.9872 - loss: 0.0423 - val_accuracy: 0.9925 - val_loss: 0.0292\n",
            "Epoch 9/10\n",
            "\u001b[1m1688/1688\u001b[0m \u001b[32m━━━━━━━━━━━━━━━━━━━━\u001b[0m\u001b[37m\u001b[0m \u001b[1m83s\u001b[0m 33ms/step - accuracy: 0.9868 - loss: 0.0419 - val_accuracy: 0.9918 - val_loss: 0.0316\n",
            "Epoch 10/10\n",
            "\u001b[1m1688/1688\u001b[0m \u001b[32m━━━━━━━━━━━━━━━━━━━━\u001b[0m\u001b[37m\u001b[0m \u001b[1m81s\u001b[0m 33ms/step - accuracy: 0.9887 - loss: 0.0411 - val_accuracy: 0.9927 - val_loss: 0.0277\n"
          ]
        }
      ]
    },
    {
      "cell_type": "markdown",
      "source": [
        "This code trains the neural network model using the `model.fit()` method.\n",
        "The `model.fit()` function is the core method in Keras used to train your neural network model. This is the method called on your compiled Keras model (model) to start the training process.\n",
        "\n",
        "Here's a breakdown of the arguments:\n",
        "* `x_train`: This is the training data (the images / features).  that the model will use for training. In our MNIST example, this is the set of 60,000 images of handwritten digits.\n",
        "* `y_train`: This is the training labels (the integer / one-hot encoded digits) corresponding to the x_train. For MNIST, these are the actual digits (0-9) that each image represents. The model learns to predict these labels based on the input images.\n",
        "* `epochs=10`: This specifies the number of epochs to train for. An epoch is one complete pass through the entire training dataset. Training for multiple epochs allows the model to learn from the data multiple times and improve its performance. The model will iterate over the entire training dataset 10 times.  Setting epochs=10 means the model will iterate over all 60,000 training images 10 times during the training process. More epochs generally allow the model to learn more, but can also lead to overfitting if the number is too high.\n",
        "* `batch_size=32`: This specifies the number of samples per gradient update. The training data is divided into smaller batches (of 32 images), and the model's weights are updated after processing each batch, rather than after processing the entire dataset (which would be one large batch). Setting batch_size=32 means the training data is split into batches of 32 images. The model will process 32 images, calculate the loss, compute the gradients using backpropagation, and then update its weights before moving on to the next batch. Using batches makes the training process more memory-efficient and can help with convergence.\n",
        "* `validation_split=0.1`: This argument tells Keras to automatically set aside a fraction of the training data to be used as validation data. Setting validation_split=0.1 means 10% of the x_train and y_train data will be held back and used to evaluate the model's performance *during* training, but *not* for updating the model's weights. This reserved 10% of the training data to be used as validation data is used to monitor the model's performance on unseen data during training. The model's performance on this validation set is evaluated at the end of each epoch. This helps to monitor for overfitting (when the model performs well on the training data but poorly on unseen data). This is crucial for monitoring overfitting; if the model performs much better on the training data than the validation data, it's likely overfitting.\n",
        "\n",
        "In summary, `model.fit()` trains the model by feeding it the training data in batches for a specified number of epochs, using a portion of the data for validation to monitor performance.\n",
        "\n",
        "The `model.fit()` method returns a `history` object, which contains information about the training process, such as the loss and accuracy values for both the training and validation sets at each epoch. This history can be used to visualize the training progress."
      ],
      "metadata": {
        "id": "H_gIspTCT7eF"
      }
    },
    {
      "cell_type": "code",
      "metadata": {
        "colab": {
          "base_uri": "https://localhost:8080/",
          "height": 293
        },
        "id": "f01cb39a",
        "outputId": "d3a2c043-8dd6-411e-ca37-00dc411edacf"
      },
      "source": [
        "# Plot training history (accuracy and loss)\n",
        "plt.figure(figsize=(12, 4))\n",
        "\n",
        "plt.subplot(1, 2, 1)\n",
        "plt.plot(history.history['accuracy'], label='Training Accuracy')\n",
        "plt.plot(history.history['val_accuracy'], label='Validation Accuracy')\n",
        "plt.title('Training and Validation Accuracy (Model Accuracy)')\n",
        "plt.xlabel('Epoch')\n",
        "plt.ylabel('Accuracy')\n",
        "plt.legend()\n",
        "\n",
        "plt.subplot(1, 2, 2)\n",
        "plt.plot(history.history['loss'], label='Training Loss')\n",
        "plt.plot(history.history['val_loss'], label='Validation Loss')\n",
        "plt.title('Training and Validation Loss (Model Loss)')\n",
        "plt.xlabel('Epoch')\n",
        "plt.ylabel('Loss')\n",
        "plt.legend()\n",
        "\n",
        "plt.show()"
      ],
      "execution_count": 52,
      "outputs": [
        {
          "output_type": "display_data",
          "data": {
            "text/plain": [
              "<Figure size 1200x400 with 2 Axes>"
            ],
            "image/png": "[encoded data removed]"
          },
          "metadata": {}
        }
      ]
    },
    {
      "cell_type": "markdown",
      "source": [
        "Visualize the training history to see how the model's accuracy and loss changed during training. Plot the accuracy and loss over the training epochs to see how the model improved during training.\n",
        "\n",
        "The plots show how the model's accuracy increased and loss decreased during training for both the training and validation sets."
      ],
      "metadata": {
        "id": "1EXNDL2mV2L0"
      }
    },
    {
      "cell_type": "markdown",
      "source": [
        "The core mechanism of how neural networks learn! Backpropagation and the optimizer work hand-in-hand during training to adjust the model's weights and biases to minimize the loss.\n",
        "\n",
        "Here's a breakdown:\n",
        "\n",
        "* Forward Pass: When you train a neural network, data is fed forward through the layers. Each layer performs calculations using its current weights and biases, and the output of one layer becomes the input to the next. This continues until the final output layer produces a prediction.\n",
        "* Calculate the Loss: The prediction from the network is compared to the actual target (the correct label for the data). A loss function (like `[sparse_]categorical_crossentropy` in our MNIST example) calculates how \"wrong\" the prediction is. A higher loss means the prediction is further from the actual target.\n",
        "* Backpropagation: This is the crucial step where the network figures out how much each parameter (weight and bias) contributed to the loss. Backpropagation works backward through the network, calculating the gradient of the loss with respect to each parameter. The gradient tells us the direction and magnitude of the change in loss if we were to slightly adjust that parameter.\n",
        "* Optimizer: This is where the optimizer (like Adam in our example) comes in. The optimizer uses the gradients calculated during backpropagation to update the model's trainable parameters. It uses different algorithms to determine how to adjust the parameters based on the gradients to effectively reduce the loss. The optimizer's goal is to find the set of weights and biases that minimizes the loss function across the entire training dataset.\n",
        "\n",
        "In simpler terms:\n",
        "* Backpropagation tells you how to change each parameter to reduce the error (loss).\n",
        "* The Optimizer uses that information to decide how much to change each parameter and in what way (based on its specific algorithm) to best reach the minimum loss.\n",
        "\n",
        "This cycle of forward pass, loss calculation, backpropagation, and parameter update by the optimizer is repeated for many iterations (epochs) and batches of data until the model's performance on the training data is satisfactory.\n",
        "\n",
        "When you call `model.fit()`, Keras, under the hood, uses the backpropagation algorithm along with the specified optimizer (in this case, 'adam') to adjust the model's trainable parameters. You don't need to explicitly add code for backpropagation when using Keras's high-level API.\n",
        "\n",
        "The `model.fit()` function handles the entire training loop, which includes:\n",
        "* Performing the forward pass to get predictions.\n",
        "* Calculating the loss based on the predictions and actual labels.\n",
        "* Using backpropagation to compute the gradients of the loss with respect to the model's parameters.\n",
        "* Using the optimizer (Adam) to update the parameters based on these gradients."
      ],
      "metadata": {
        "id": "ccZVZJZRZHTM"
      }
    },
    {
      "cell_type": "markdown",
      "source": [
        "## How to evaluate model performance\n",
        "\n",
        "Evaluate the model on the test set to see how well it performs on unseen data.\n",
        "This will give us an idea of how well the model generalizes to unseen data."
      ],
      "metadata": {
        "id": "JPv8HLel031Z"
      }
    },
    {
      "cell_type": "code",
      "metadata": {
        "colab": {
          "base_uri": "https://localhost:8080/"
        },
        "id": "b68339a4",
        "outputId": "d828f3b1-e805-41c7-c43a-1065ff168772"
      },
      "source": [
        "# Evaluate the model\n",
        "loss, accuracy = model.evaluate(x_test, y_test, verbose=0)\n",
        "print(f\"Test Loss: {loss:.4f}\")\n",
        "print(f\"Test Accuracy: {accuracy:.4f}\")"
      ],
      "execution_count": 53,
      "outputs": [
        {
          "output_type": "stream",
          "name": "stdout",
          "text": [
            "Test Loss: 0.0214\n",
            "Test Accuracy: 0.9933\n"
          ]
        }
      ]
    },
    {
      "cell_type": "markdown",
      "source": [
        "The model achieved a test accuracy of 99.14%, which is a great result for this dataset!"
      ],
      "metadata": {
        "id": "TQmPXl7OasEU"
      }
    },
    {
      "cell_type": "markdown",
      "source": [
        "## Predict and visualise\n",
        "\n",
        "Now that the model is trained, we can use it to make predictions on new images. Let's pick a few examples from the test set and see what the model predicts."
      ],
      "metadata": {
        "id": "Yt_R194Ya-WW"
      }
    },
    {
      "cell_type": "code",
      "source": [
        "import numpy as np\n",
        "\n",
        "# Get a few images from the test set\n",
        "num_images_to_predict = 5\n",
        "sample_images = x_test[:num_images_to_predict]\n",
        "sample_labels = y_test[:num_images_to_predict]\n",
        "\n",
        "# Make predictions\n",
        "predictions = model.predict(sample_images)\n",
        "\n",
        "# Print the predictions and the actual labels\n",
        "print(\"Predictions:\")\n",
        "print(np.argmax(predictions, axis=1))\n",
        "\n",
        "print(\"\\nActual Labels:\")\n",
        "print(sample_labels)\n",
        "\n",
        "# Optionally, visualize the images and their predictions\n",
        "plt.figure(figsize=(10, 2))\n",
        "for i in range(num_images_to_predict):\n",
        "    plt.subplot(1, num_images_to_predict, i + 1)\n",
        "    plt.imshow(sample_images[i], cmap='gray')\n",
        "    plt.title(f\"Predicted: {np.argmax(predictions[i])}\\nActual: {sample_labels[i]}\")\n",
        "    plt.axis('off')\n",
        "plt.show()"
      ],
      "metadata": {
        "colab": {
          "base_uri": "https://localhost:8080/",
          "height": 343
        },
        "id": "uHuTuGR51ZBT",
        "outputId": "00281caf-a18c-4333-94d1-b5fd5665603f"
      },
      "execution_count": 54,
      "outputs": [
        {
          "output_type": "stream",
          "name": "stdout",
          "text": [
            "\u001b[1m1/1\u001b[0m \u001b[32m━━━━━━━━━━━━━━━━━━━━\u001b[0m\u001b[37m\u001b[0m \u001b[1m0s\u001b[0m 99ms/step\n",
            "Predictions:\n",
            "[7 2 1 0 4]\n",
            "\n",
            "Actual Labels:\n",
            "[[0. 0. 0. 0. 0. 0. 0. 1. 0. 0.]\n",
            " [0. 0. 1. 0. 0. 0. 0. 0. 0. 0.]\n",
            " [0. 1. 0. 0. 0. 0. 0. 0. 0. 0.]\n",
            " [1. 0. 0. 0. 0. 0. 0. 0. 0. 0.]\n",
            " [0. 0. 0. 0. 1. 0. 0. 0. 0. 0.]]\n"
          ]
        },
        {
          "output_type": "display_data",
          "data": {
            "text/plain": [
              "<Figure size 1000x200 with 5 Axes>"
            ],
            "image/png": "[encoded data removed]"
          },
          "metadata": {}
        }
      ]
    },
    {
      "cell_type": "code",
      "metadata": {
        "colab": {
          "base_uri": "https://localhost:8080/",
          "height": 299
        },
        "id": "974a62b0",
        "outputId": "1be4eafc-4c30-4946-da58-46051ddd9ad7"
      },
      "source": [
        "import numpy as np\n",
        "\n",
        "# Get a few images from the test set\n",
        "num_images_to_predict = 5\n",
        "sample_images = x_test[:num_images_to_predict]\n",
        "sample_labels = y_test[:num_images_to_predict]\n",
        "\n",
        "# Make predictions\n",
        "predictions = model.predict(sample_images)\n",
        "\n",
        "# Convert one-hot encoded actual labels to numerical labels\n",
        "numerical_sample_labels = np.argmax(sample_labels, axis=1)\n",
        "\n",
        "# Print the predictions and the actual numerical labels\n",
        "print(\"Predictions:\")\n",
        "print(np.argmax(predictions, axis=1))\n",
        "\n",
        "print(\"\\nActual Labels:\")\n",
        "print(numerical_sample_labels)\n",
        "\n",
        "# Optionally, visualize the images and their predictions\n",
        "plt.figure(figsize=(10, 2))\n",
        "for i in range(num_images_to_predict):\n",
        "    plt.subplot(1, num_images_to_predict, i + 1)\n",
        "    plt.imshow(sample_images[i], cmap=plt.cm.binary)\n",
        "    plt.title(f\"Predicted: {np.argmax(predictions[i])}\\nActual: {numerical_sample_labels[i]}\")\n",
        "    plt.axis('off')\n",
        "plt.show()"
      ],
      "execution_count": 55,
      "outputs": [
        {
          "output_type": "stream",
          "name": "stdout",
          "text": [
            "\u001b[1m1/1\u001b[0m \u001b[32m━━━━━━━━━━━━━━━━━━━━\u001b[0m\u001b[37m\u001b[0m \u001b[1m0s\u001b[0m 44ms/step\n",
            "Predictions:\n",
            "[7 2 1 0 4]\n",
            "\n",
            "Actual Labels:\n",
            "[7 2 1 0 4]\n"
          ]
        },
        {
          "output_type": "display_data",
          "data": {
            "text/plain": [
              "<Figure size 1000x200 with 5 Axes>"
            ],
            "image/png": "[encoded data removed]"
          },
          "metadata": {}
        }
      ]
    },
    {
      "cell_type": "markdown",
      "source": [
        "## Save and load a trained model"
      ],
      "metadata": {
        "id": "UpNmCWYyeyll"
      }
    },
    {
      "cell_type": "markdown",
      "source": [
        "aving your trained model allows you to reuse it later without having to retrain it. Keras makes this very easy. You can save the entire model, including the optimizer state, weights, and model configuration."
      ],
      "metadata": {
        "id": "aS2xKJORfFWi"
      }
    },
    {
      "cell_type": "code",
      "source": [
        "# Save the entire model to a file\n",
        "model.save('mnist_model.keras')\n",
        "print(\"Model saved successfully!\")"
      ],
      "metadata": {
        "colab": {
          "base_uri": "https://localhost:8080/"
        },
        "id": "p-ltX--me1vb",
        "outputId": "3713bd3c-106a-4674-d361-c4f6625bc230"
      },
      "execution_count": 56,
      "outputs": [
        {
          "output_type": "stream",
          "name": "stdout",
          "text": [
            "Model saved successfully!\n"
          ]
        }
      ]
    },
    {
      "cell_type": "markdown",
      "source": [
        "To load the model later, you can use `tf.keras.models.load_model()`. This will recreate the model from the saved file, including the architecture, weights, and compilation information (optimizer, loss, etc.)."
      ],
      "metadata": {
        "id": "GzvBmjGLfLTN"
      }
    },
    {
      "cell_type": "code",
      "source": [
        "# Load the saved model\n",
        "loaded_model = tf.keras.models.load_model('mnist_model.keras')\n",
        "print(\"Model loaded successfully!\")\n",
        "\n",
        "# You can now use the loaded model to make predictions or evaluate it\n",
        "# For example, evaluate the loaded model on the test set\n",
        "loss, accuracy = loaded_model.evaluate(x_test, y_test, verbose=0)\n",
        "print(f\"Loaded model test loss: {loss:.4f}\")\n",
        "print(f\"Loaded model test accuracy: {accuracy:.4f}\")"
      ],
      "metadata": {
        "colab": {
          "base_uri": "https://localhost:8080/"
        },
        "id": "QcXUSiQ0fIdA",
        "outputId": "0b4f14f2-0148-4a1f-e54b-d5a02eda26fa"
      },
      "execution_count": 57,
      "outputs": [
        {
          "output_type": "stream",
          "name": "stdout",
          "text": [
            "Model loaded successfully!\n",
            "Loaded model test loss: 0.0214\n",
            "Loaded model test accuracy: 0.9933\n"
          ]
        }
      ]
    },
    {
      "cell_type": "code",
      "source": [],
      "metadata": {
        "id": "o2HRApGzfOHJ"
      },
      "execution_count": 57,
      "outputs": []
    }
  ]
}